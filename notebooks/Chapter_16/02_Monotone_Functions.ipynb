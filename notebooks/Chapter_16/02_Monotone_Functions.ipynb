{
 "cells": [
  {
   "cell_type": "code",
   "execution_count": 1,
   "metadata": {
    "collapsed": true
   },
   "outputs": [],
   "source": [
    "# HIDDEN\n",
    "from datascience import *\n",
    "from prob140 import *\n",
    "import numpy as np\n",
    "import matplotlib.pyplot as plt\n",
    "plt.style.use('fivethirtyeight')\n",
    "%matplotlib inline\n",
    "import math\n",
    "from scipy import stats"
   ]
  },
  {
   "cell_type": "markdown",
   "metadata": {},
   "source": [
    "## Monotone Functions ##"
   ]
  },
  {
   "cell_type": "markdown",
   "metadata": {},
   "source": [
    "The method we have developed for finding the density of a linear function of a random variable can be extended to non-linear functions. We will start with a setting in which you have seen that applying non-linear functions to a random variable can have useful results."
   ]
  },
  {
   "cell_type": "markdown",
   "metadata": {},
   "source": [
    "### Simulation via the CDF ###\n",
    "In exercises, you have seen by simulation that you can generate a value of a random variable with a specified distribution by using the cdf of the distribution and a uniform (0, 1) random number. We will now establish the theory that underlies what you discovered by computation. \n",
    "\n",
    "Let $F$ be a differentiable, strictly increasing cdf on the real number line. The differentiability assumption allows you to find the corresponding density by differentiating. \n",
    "\n",
    "Our goal is to generate a value of a random variable that has $F$ as its cdf. The statement below describes the process that you came up with in exercises. Note that because $F$ is continuous and strictly increasing, it has an inverse function.\n",
    "\n",
    "Let $U$ have the uniform (0, 1) distribution. Define a random variable $X$ by the formula $X = F^{-1}(U)$, and let $F_X$ be the cdf of $X$. We will show that $F_X = F$ and thus that $X$ has the desired distribution.\n",
    "\n",
    "To prove the result, remember that the cdf $F_U$ of $U$ is given by $F_U(u) = u$ for $0 < u < 1$. Let $x$ be any number. Our goal is to show that $F_X(x) = F(x)$.\n",
    "\n",
    "\\begin{align*}\n",
    "F_X(x) ~ &= ~ P(X \\le x) \\\\\n",
    "&= ~ P(F^{-1}(U) \\le x) \\\\\n",
    "&= ~ P(U \\le F(x)) ~~~~ \\mbox{because } F \\mbox{ is increasing} \\\\\n",
    "&= ~ F_U(F(x)) \\\\\n",
    "&= ~ F(x)\n",
    "\\end{align*}"
   ]
  },
  {
   "cell_type": "markdown",
   "metadata": {},
   "source": [
    "### Change of Variable Formula for Density: Increasing Function ###\n",
    "The function $F^{-1}$ is differentiable and increasing. We will now develop a general method for finding the density of such a function applied to any random variable that has a density.\n",
    "\n",
    "Let $X$ have density $f_X$. Let $g$ be a smooth (that is, differentiable) increasing function, and let $Y = g(X)$. Examples of such functions $g$ are:\n",
    "\n",
    "- $g(x) = ax + b$ for some $a > 0$. This case was covered in the previous section.\n",
    "- $g(x) = e^x$\n",
    "- $g(x) = \\sqrt{x}$ on positive values of $x$\n",
    "\n",
    "To develop a formula for the density of $Y$ in terms of $f_X$ and $g$, we will start with the cdf as we did above.\n",
    "\n",
    "Let $g$ be smooth and increasing, and let $Y = g(X)$. We want a formula for $f_Y$. We will start by finding a formula for the cdf $F_Y$ of $Y$ in terms of $g$ and the cdf $F_X$ of $X$.\n",
    "\n",
    "\\begin{align*}\n",
    "F_Y(y) ~ & = ~ P(Y \\le y) \\\\\n",
    "&= ~ P(g(X) \\le y) \\\\\n",
    "&= ~ P(X \\le g^{-1}(y)) ~~~~ \\text{because } g \\text{ is increasing} \\\\\n",
    "&= ~ F_X(g^{-1}(y))\n",
    "\\end{align*}\n",
    "\n",
    "Now we can differentiate to find the density of $Y$. By the chain rule and the fact that the derivative of an inverse is the reciprocal of the derivative,\n",
    "\n",
    "\\begin{align*}\n",
    "f_Y(y) ~ &= ~ f_X(g^{-1}(y)) \\frac{d}{dy} g^{-1}(y) \\\\\n",
    "&= ~ f_X(x) \\frac{1}{g'(x)} ~~~~~ \\text{at } x = g^{-1}(y)\n",
    "\\end{align*}\n",
    "\n",
    "#### The Formula ####\n",
    "Let $g$ be a differentiable, increasing function. The density of $Y = g(X)$ is given by\n",
    "$$\n",
    "f_Y(y) ~ = ~ f_X(x) \\cdot \\frac{1}{g'(x)} ~~~ \\text{at } x = g^{-1}(y)\n",
    "$$"
   ]
  },
  {
   "cell_type": "markdown",
   "metadata": {},
   "source": [
    "### Understanding the Formula ###\n",
    "To see what is going on in the calculation, we will follow the same process as we used for linear functions in an earlier section.\n",
    "- For $Y$ to be $y$, $X$ has to be $g^{-1}(y)$.\n",
    "- Since $g$ need not be linear, the tranformation by $g$ won't necessarily stretch the horizontal axis by a constant factor. Instead, the factor has different values at each $x$. If $g'$ denotes the derivative of $g$, then the stretch factor at $x$ is $g'(x)$, the rate of change of $g$ at $x$. To make the total area under the density equal to 1, we have to compensate by dividing by $g'(x)$. This is valid because $g$ is increasing and hence $g'$ is positive.\n",
    "\n",
    "This gives us an intuitive justification for the formula."
   ]
  },
  {
   "cell_type": "markdown",
   "metadata": {},
   "source": [
    "### Applying the Formula ###\n",
    "Let $X$ have the exponential (1) density and let $Y = \\sqrt{X}$. We can take the square root because $X$ is a positive random variable. \n",
    "\n",
    "Let's find the density of $Y$ by applying the formula we have derived above. We will organize our calculation in four preliminary steps, and then plug into the formula.\n",
    "\n",
    "- **The function:** Take $g(x) = \\sqrt{x}$. Then $g$ is increasing and its possible values are $(0, \\infty)$.\n",
    "- **The derviative:** The derivative of $g$ is given by $g'(x) = 1/2\\sqrt{x}$.\n",
    "- **The inverse function:** Let $y = g(x) = \\sqrt{x}$. We will now write $x$ in terms of $y$, to get $x = y^2$.\n",
    "- **The known density:** The density of $X$ is $f_X(x) = e^{-x}$ for $x > 0$.\n",
    "\n",
    "We are ready to plug this into our formula. Keep in mind that the possible values of $Y$ are $(0, \\infty)$. For $y > 0$ the formula says\n",
    "\n",
    "$$\n",
    "f_Y(y) ~ = ~ f_X(x) \\cdot \\frac{1}{g'(x)} ~~~ \\text{at } x = g^{-1}(y)\n",
    "$$\n",
    "\n",
    "So for $y > 0$,\n",
    "\n",
    "\\begin{align*}\n",
    "f_Y(y) ~ &= ~ e^{-x} \\cdot \\frac{1}{1/2\\sqrt{x}} ~~~~ \\mbox{at } x = y^2 \\\\\n",
    "&= ~ 2\\sqrt{x} e^{-x} ~~~~ \\mbox{at } x = y^2 \\\\\n",
    "&= ~ 2\\sqrt{y^2} e^{-y^2} \\\\\n",
    "&= ~ 2y e^{-y^2}\n",
    "\\end{align*}\n",
    "\n",
    "This is the *Rayleigh* density. Its graph is shown below."
   ]
  },
  {
   "cell_type": "code",
   "execution_count": 2,
   "metadata": {
    "collapsed": false
   },
   "outputs": [
    {
     "data": {
      "image/png": "[encoded data removed]",
      "text/plain": [
       "<Figure size 432x288 with 1 Axes>"
      ]
     },
     "metadata": {},
     "output_type": "display_data"
    }
   ],
   "source": [
    "# HIDDEN\n",
    "y = np.arange(0, 4, 0.01)\n",
    "weibull_dens = 2* y * np.exp((-1 * (y ** 2)))\n",
    "plt.plot(y, weibull_dens, color='darkblue', lw=2)\n",
    "plt.xlabel('$y$')\n",
    "plt.ylabel('$f_Y(y)$', rotation = False)\n",
    "plt.title('Rayleigh Density');"
   ]
  },
  {
   "cell_type": "markdown",
   "metadata": {},
   "source": [
    "A log-normal density can be used as an approximation for the density of a product of a large number of i.i.d. random variables. The log of the product is the sum of a large number of i.i.d. variables, and hence is approximately normal by the Central Limit Theorem."
   ]
  },
  {
   "cell_type": "markdown",
   "metadata": {},
   "source": [
    "### Change of Variable Formula for Density: Monotone Function ###\n",
    "Let $g$ be smooth and monotone (that is, either increasing or decreasing). The density of $Y = g(X)$ is given by\n",
    "\n",
    "$$\n",
    "f_Y(y) ~ = ~ f_X(x) \\cdot \\frac{1}{\\lvert g'(x) \\rvert} ~~~ \\text{at } x = g^{-1}(y)\n",
    "$$\n",
    "\n",
    "We have proved the result for increasing $g$. When $g$ is decreasing, the proof is analogous to proof in the linear case and accounts for $g'$ being negative. We won't take the time to write it out."
   ]
  },
  {
   "cell_type": "markdown",
   "metadata": {},
   "source": [
    "### Reciprocal of a Uniform Variable ###\n",
    "Let $U$ be uniform on $(0, 1)$ and let $V = 1/U$. The distribution of $V$ is called the *inverse uniform* but the word \"inverse\" is confusing in the context of change of variable. So we will simply call $V$ the reciprocal of $U$.\n",
    "\n",
    "To find the density of $V$, start by noticing that the possible values of $V$ are in $(1, \\infty)$ as the possible values of $U$ are in $(0, 1)$.\n",
    "\n",
    "The components of the change of variable formula for densities:\n",
    "- **The function:** Define $g(u) = 1/u$.\n",
    "- **The derivative:** Then $g'(u) = -u^{-2}$.\n",
    "- **The inverse function:** Let $v = g(u) = 1/u$. Then $u = g^{-1}(v) = 1/v$.\n",
    "- **The known density:** $f_U(u) = 1$ for $0 < u < 1$.\n",
    "\n",
    "By the formula, for $v > 1$ we have\n",
    "$$\n",
    "f_V(v) ~ = ~ f_U(u) \\cdot \\frac{1}{\\lvert g'(u) \\rvert} ~~~ \\text{at } u = g^{-1}(v)\n",
    "$$\n",
    "\n",
    "That is, for $v > 1$,\n",
    "$$\n",
    "f_V(v) ~ = ~ 1 \\cdot u^2 ~~~ \\text{at } u = 1/v\n",
    "$$\n",
    "So \n",
    "$$\n",
    "f_V(v) ~ = ~ \\frac{1}{v^2}, ~~~ v > 1\n",
    "$$\n",
    "\n",
    "You should check that $f_V$ is indeed a density, that is, it integrates to 1. You should also check that the expectation of $V$ is infinite.\n",
    "\n",
    "The density $f_V$ belongs to the *Pareto* family of densities, much used in economics."
   ]
  },
  {
   "cell_type": "code",
   "execution_count": 3,
   "metadata": {
    "collapsed": false
   },
   "outputs": [
    {
     "data": {
      "image/png": "[encoded data removed]",
      "text/plain": [
       "<Figure size 432x288 with 1 Axes>"
      ]
     },
     "metadata": {},
     "output_type": "display_data"
    }
   ],
   "source": [
    "# HIDDEN\n",
    "v = np.arange(1, 10, 0.01)\n",
    "y = 1/v**2\n",
    "plt.plot(v, y, color='darkblue', lw=2)\n",
    "plt.plot([-0.5, 1], [0, 0], color='darkblue', lw=2 )\n",
    "plt.ylim(-0.05, 1.05)\n",
    "plt.xlim(-0.5, 10)\n",
    "plt.xlabel('$v$')\n",
    "plt.ylabel('$f_V(v)$', rotation=0)\n",
    "plt.title('Density of Reciprocal of Uniform (0, 1)');"
   ]
  },
  {
   "cell_type": "code",
   "execution_count": 4,
   "metadata": {
    "collapsed": true
   },
   "outputs": [],
   "source": []
  }
 ],
 "metadata": {
  "anaconda-cloud": {},
  "kernelspec": {
   "display_name": "Python [Root]",
   "language": "python",
   "name": "Python [Root]"
  },
  "language_info": {
   "codemirror_mode": {
    "name": "ipython",
    "version": 3
   },
   "file_extension": ".py",
   "mimetype": "text/x-python",
   "name": "python",
   "nbconvert_exporter": "python",
   "pygments_lexer": "ipython3",
   "version": "3.5.2"
  }
 },
 "nbformat": 4,
 "nbformat_minor": 0
}
